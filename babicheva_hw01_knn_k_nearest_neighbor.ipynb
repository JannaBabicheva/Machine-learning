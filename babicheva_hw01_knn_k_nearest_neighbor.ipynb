{
  "nbformat": 4,
  "nbformat_minor": 0,
  "metadata": {
    "colab": {
      "provenance": [],
      "authorship_tag": "ABX9TyMxWBByLjumiLxd5bJpnh5r",
      "include_colab_link": true
    },
    "kernelspec": {
      "name": "python3",
      "display_name": "Python 3"
    },
    "language_info": {
      "name": "python"
    }
  },
  "cells": [
    {
      "cell_type": "markdown",
      "metadata": {
        "id": "view-in-github",
        "colab_type": "text"
      },
      "source": [
        "<a href=\"https://colab.research.google.com/github/JannaBabicheva/Machine-learning/blob/main/babicheva_hw01_knn_k_nearest_neighbor.ipynb\" target=\"_parent\"><img src=\"https://colab.research.google.com/assets/colab-badge.svg\" alt=\"Open In Colab\"/></a>"
      ]
    },
    {
      "cell_type": "code",
      "execution_count": null,
      "metadata": {
        "id": "LsNtthmIdbCx"
      },
      "outputs": [],
      "source": [
        "import numpy as np"
      ]
    },
    {
      "cell_type": "code",
      "source": [
        "class KNearestNeighbor:\n",
        "    def __init__(self):\n",
        "        pass\n",
        "\n",
        "    def fit(self, X, y):\n",
        "        self.X_train = X\n",
        "        self.y_train = y"
      ],
      "metadata": {
        "id": "MO479sAghDPb"
      },
      "execution_count": null,
      "outputs": []
    },
    {
      "cell_type": "code",
      "source": [
        "   def predict(self, X, k=1, num_loops=0):\n",
        "        \"\"\"\n",
        "\n",
        "        Args:\n",
        "          self:\n",
        "          X:\n",
        "          k:\n",
        "          num_loops:\n",
        "\n",
        "        Returns:\n",
        "\n",
        "        \"\"\"\n",
        "        if num_loops == 0:\n",
        "            dists = self.compute_distances_no_loops(X)\n",
        "        elif num_loops == 1:\n",
        "            dists = self.compute_distances_one_loop(X)\n",
        "        elif num_loops == 2:\n",
        "            dists = self.compute_distances_two_loops(X)\n",
        "        else:\n",
        "            raise ValueError('Invalid value %d for num_loops' % num_loops)\n",
        "\n",
        "        return self.predict_labels(dists, k=k)"
      ],
      "metadata": {
        "id": "7eAM3JhDhIlU"
      },
      "execution_count": null,
      "outputs": []
    },
    {
      "cell_type": "code",
      "source": [
        "  def compute_distances_two_loops(self, X):\n",
        "        num_test = X.shape[0]\n",
        "        num_train = self.X_train.shape[0]\n",
        "        dists = np.zeros((num_test, num_train))\n",
        "        for i in range(num_test):\n",
        "            for j in range(num_train):\n",
        "                # Compute the L2 distance without using np.linalg.norm()\n",
        "                dists[i, j] = np.sqrt(np.sum((X[i] - self.X_train[j]) ** 2))\n",
        "        return dists"
      ],
      "metadata": {
        "id": "XhJTTMVChML8"
      },
      "execution_count": null,
      "outputs": []
    },
    {
      "cell_type": "code",
      "source": [
        "  def compute_distances_one_loop(self, X):\n",
        "        num_test = X.shape[0]\n",
        "        num_train = self.X_train.shape[0]\n",
        "        dists = np.zeros((num_test, num_train))\n",
        "        for i in range(num_test):\n",
        "            # Vectorized computation of L2 distances for one test point against all training points\n",
        "            dists[i, :] = np.sqrt(np.sum((self.X_train - X[i]) ** 2, axis=1))\n",
        "        return dists"
      ],
      "metadata": {
        "id": "ixHJEcG_hRqY"
      },
      "execution_count": null,
      "outputs": []
    },
    {
      "cell_type": "code",
      "source": [
        "  def compute_distances_no_loops(self, X):\n",
        "        num_test = X.shape[0]\n",
        "        num_train = self.X_train.shape[0]\n",
        "\n",
        "        # L2 distance computation without loops\n",
        "        X_squared = np.sum(X ** 2, axis=1).reshape((num_test, 1))\n",
        "        X_train_squared = np.sum(self.X_train ** 2, axis=1).reshape((1, num_train))\n",
        "        cross_term = np.dot(X, self.X_train.T)\n",
        "\n",
        "        # Using the formula (x-y)^2 = x^2 - 2*x*y + y^2\n",
        "        dists = np.sqrt(X_squared + X_train_squared - 2 * cross_term)\n",
        "\n",
        "        return dists"
      ],
      "metadata": {
        "id": "weRaVXN1hVxL"
      },
      "execution_count": null,
      "outputs": []
    },
    {
      "cell_type": "code",
      "source": [
        "def predict_labels(self, dists, k=1):\n",
        "        num_test = dists.shape[0]\n",
        "        y_pred = np.zeros(num_test)\n",
        "        for i in range(num_test):\n",
        "            # Find the k nearest neighbors from distance matrix\n",
        "            nearest_neighbors_indices = np.argsort(dists[i])[:k]\n",
        "            closest_y = self.y_train[nearest_neighbors_indices]\n",
        "\n",
        "            # Find the most common label among these neighbors\n",
        "            unique_labels, counts = np.unique(closest_y, return_counts=True)\n",
        "            y_pred[i] = unique_labels[np.argmax(counts)]\n",
        "        return y_pred"
      ],
      "metadata": {
        "id": "yoAHDUe5hZXX"
      },
      "execution_count": null,
      "outputs": []
    },
    {
      "cell_type": "markdown",
      "source": [
        "Этот код завершает реализацию класса K Nearest Neighbor, добавляя вычисления расстояний для подходов с двумя циклами, с одним циклом и без циклов, а также логику для прогнозирования меток на основе этих расстояний. Функция predict_labels теперь находит k-ближайших соседей и определяет наиболее распространенную метку среди них для каждого тестового образца."
      ],
      "metadata": {
        "id": "DIPSdEzWhixg"
      }
    }
  ]
}