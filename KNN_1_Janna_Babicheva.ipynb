{
  "nbformat": 4,
  "nbformat_minor": 0,
  "metadata": {
    "colab": {
      "provenance": [],
      "authorship_tag": "ABX9TyNjcjSXaaJfhta3SPYsPZyA",
      "include_colab_link": true
    },
    "kernelspec": {
      "name": "python3",
      "display_name": "Python 3"
    },
    "language_info": {
      "name": "python"
    }
  },
  "cells": [
    {
      "cell_type": "markdown",
      "metadata": {
        "id": "view-in-github",
        "colab_type": "text"
      },
      "source": [
        "<a href=\"https://colab.research.google.com/github/JannaBabicheva/Machine-learning/blob/main/KNN_1_Janna_Babicheva.ipynb\" target=\"_parent\"><img src=\"https://colab.research.google.com/assets/colab-badge.svg\" alt=\"Open In Colab\"/></a>"
      ]
    },
    {
      "cell_type": "markdown",
      "source": [
        "Дополняем класс KNearestNeighbor, реализовав недостающие части кода,  вычисление расстояний L2 в различных сценариях и логику прогнозирования, основанную на k ближайших соседях:"
      ],
      "metadata": {
        "id": "IukXiltpfUCh"
      }
    },
    {
      "cell_type": "code",
      "execution_count": 2,
      "metadata": {
        "id": "isw_NAprcVUA"
      },
      "outputs": [],
      "source": [
        "import numpy as np"
      ]
    },
    {
      "cell_type": "code",
      "source": [
        "class KNearestNeighbor:\n",
        "    def __init__(self):\n",
        "        pass\n",
        "\n",
        "    def fit(self, X, y):\n",
        "        self.X_train = X\n",
        "        self.y_train = y\n",
        "\n",
        "    def predict(self, X, k=1, num_loops=0):\n",
        "        if num_loops == 0:\n",
        "            dists = self.compute_distances_no_loops(X)\n",
        "        elif num_loops == 1:\n",
        "            dists = self.compute_distances_one_loop(X)\n",
        "        elif num_loops == 2:\n",
        "            dists = self.compute_distances_two_loops(X)\n",
        "        else:\n",
        "            raise ValueError(f'Invalid value {num_loops} for num_loops')\n",
        "\n",
        "        return self.predict_labels(dists, k=k)\n",
        "\n",
        "    def compute_distances_two_loops(self, X):\n",
        "        num_test = X.shape[0]\n",
        "        num_train = self.X_train.shape[0]\n",
        "        dists = np.zeros((num_test, num_train))\n",
        "        for i in range(num_test):\n",
        "            for j in range(num_train):\n",
        "                # Compute the L2 distance\n",
        "                dists[i, j] = np.sqrt(np.sum((X[i] - self.X_train[j]) ** 2))\n",
        "        return dists\n",
        "\n",
        "    def compute_distances_one_loop(self, X):\n",
        "        num_test = X.shape[0]\n",
        "        num_train = self.X_train.shape[0]\n",
        "        dists = np.zeros((num_test, num_train))\n",
        "        for i in range(num_test):\n",
        "            # Compute the L2 distance for each test point\n",
        "            dists[i, :] = np.sqrt(np.sum((self.X_train - X[i]) ** 2, axis=1))\n",
        "        return dists\n",
        "\n",
        "    def compute_distances_no_loops(self, X):\n",
        "        num_test = X.shape[0]\n",
        "        num_train = self.X_train.shape[0]\n",
        "\n",
        "        # Using the identity (a - b)^2 = a^2 + b^2 - 2ab\n",
        "        X_square = np.sum(X**2, axis=1).reshape((num_test, 1))\n",
        "        X_train_square = np.sum(self.X_train**2, axis=1).reshape((1, num_train))\n",
        "        cross_term = np.dot(X, self.X_train.T)\n",
        "\n",
        "        dists = np.sqrt(X_square + X_train_square - 2 * cross_term)\n",
        "        return dists\n",
        "\n",
        "    def predict_labels(self, dists, k=1):\n",
        "        num_test = dists.shape[0]\n",
        "        y_pred = np.zeros(num_test)\n",
        "        for i in range(num_test):\n",
        "            # Find the k nearest neighbors\n",
        "            closest_y = self.y_train[np.argsort(dists[i])[:k]]\n",
        "\n",
        "            # Find the most common label in the list of nearest neighbors\n",
        "            unique, counts = np.unique(closest_y, return_counts=True)\n",
        "            y_pred[i] = unique[np.argmax(counts)]\n",
        "\n",
        "        return y_pred"
      ],
      "metadata": {
        "id": "HqGUxE63eDCo"
      },
      "execution_count": 5,
      "outputs": []
    },
    {
      "cell_type": "code",
      "source": [
        "# Example of how to use the class:\n",
        "# knn = KNearestNeighbor()\n",
        "# knn.fit(X_train, y_train)\n",
        "# y_test_pred = knn.predict(X_test, k=5, num_loops=0)"
      ],
      "metadata": {
        "id": "oNBeSN_seOSC"
      },
      "execution_count": 6,
      "outputs": []
    },
    {
      "cell_type": "markdown",
      "source": [
        "Этот скрипт определяет класс KNearestNeighbor с методами вычисления расстояний и прогнозирования меток для тестовых данных с использованием алгоритма K-Nearest Neighbors. Вот основные реализованные задачи:\n",
        "\n",
        "\n",
        "\n",
        "compute_distances_two_loops: Вычисляет расстояния L2 с использованием двух вложенных циклов.\n",
        "\n",
        "compute_distances_one_loop: Вычисляет расстояния L2, используя один цикл и операции с массивами.\n",
        "\n",
        "compute_distances_no_loops: Вычисляет расстояния L2, используя векторизованные операции без явных циклов.\n",
        "\n",
        "predict_labels: Определяет наиболее распространенную метку среди k ближайших соседей, при этом связи прерываются выбором метки меньшего размера.\n",
        "\n",
        "\n",
        "Этот код разработан для обеспечения четкой и эффективной реализации алгоритма k-ближайших соседей с использованием различных уровней вычислительной эффективности."
      ],
      "metadata": {
        "id": "6-MYhs9WebBE"
      }
    }
  ]
}